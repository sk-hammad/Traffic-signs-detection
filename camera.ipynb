{
 "cells": [
  {
   "cell_type": "code",
   "execution_count": 12,
   "id": "25393e79-8afb-4e4e-81d6-ed96eafd4d01",
   "metadata": {},
   "outputs": [
    {
     "name": "stdout",
     "output_type": "stream",
     "text": [
      "Press 'q' to exit...\n"
     ]
    }
   ],
   "source": [
    "import cv2\n",
    "import numpy as np\n",
    "from keras.models import load_model\n",
    "IMAGE_SIZE = (32, 32) \n",
    "LABELS = {\n",
    "    0: 'Speed Limit 20 km/h', 1: 'Speed Limit 30 km/h', 2: 'Speed Limit 50 km/h',\n",
    "    3: 'Speed Limit 60 km/h', 4: 'Speed Limit 70 km/h', 5: 'Speed Limit 80 km/h',\n",
    "    6: 'End of Speed Limit 80 km/h', 7: 'Speed Limit 100 km/h', 8: 'Speed Limit 120 km/h',\n",
    "    9: 'No passing', 10: 'No passing for vehicles over 3.5 metric tons',\n",
    "    11: 'Right-of-way at the next intersection', 12: 'Priority road', 13: 'Yield',\n",
    "    14: 'Stop', 15: 'No vehicles', 16: 'Vehicles over 3.5 metric tons prohibited',\n",
    "    17: 'No entry', 18: 'General caution', 19: 'Dangerous curve to the left',\n",
    "    20: 'Dangerous curve to the right', 21: 'Double curve', 22: 'Bumpy road',\n",
    "    23: 'Slippery road', 24: 'Road narrows on the right', 25: 'Road work',\n",
    "    26: 'Traffic signals', 27: 'Pedestrians', 28: 'Children crossing',\n",
    "    29: 'Bicycles crossing', 30: 'Beware of ice/snow', 31: 'Wild animals crossing',\n",
    "    32: 'End of all speed and passing limits', 33: 'Turn right ahead',\n",
    "    34: 'Turn left ahead', 35: 'Ahead only', 36: 'Go straight or right',\n",
    "    37: 'Go straight or left', 38: 'Keep right', 39: 'Keep left',\n",
    "    40: 'Roundabout mandatory', 41: 'End of no passing',\n",
    "    42: 'End of no passing by vehicles over 3.5 metric tons'\n",
    "}\n",
    "\n",
    "model = load_model(\"model.h5\")\n",
    "\n",
    "def preprocess_frame(frame):\n",
    "    \"\"\"\n",
    "    Preprocess the input frame for prediction.\n",
    "    Converts frame to grayscale, equalizes histogram, normalizes, and reshapes.\n",
    "    \"\"\"\n",
    "    img = cv2.cvtColor(frame, cv2.COLOR_BGR2GRAY)  # Convert to grayscale\n",
    "    img = cv2.equalizeHist(img)                   # Apply histogram equalization\n",
    "    img = img / 255.0                             # Normalize to [0, 1]\n",
    "    return cv2.resize(img, IMAGE_SIZE).reshape(1, 32, 32, 1)\n",
    "\n",
    "cap = cv2.VideoCapture(0)\n",
    "\n",
    "print(\"Press 'q' to exit...\")\n",
    "while True:\n",
    "    ret, frame = cap.read()\n",
    "    if not ret:\n",
    "        break\n",
    "    processed_frame = preprocess_frame(frame)\n",
    "    predictions = model.predict(processed_frame, verbose=0)\n",
    "    class_id = np.argmax(predictions)\n",
    "    confidence = np.max(predictions)\n",
    "    label = f\"{LABELS.get(class_id, 'Unknown')} ({confidence * 100:.2f}%)\"\n",
    "    cv2.putText(frame, label, (10, 30), cv2.FONT_HERSHEY_SIMPLEX, 0.7, (0, 255, 0), 2)\n",
    "    cv2.imshow(\"Traffic Sign Detection\", frame)\n",
    "    if cv2.waitKey(1) & 0xFF == ord('q'):\n",
    "        break\n",
    "\n",
    "cap.release()\n",
    "cv2.destroyAllWindows()\n"
   ]
  },
  {
   "cell_type": "code",
   "execution_count": null,
   "id": "e638ffc1-4738-4d91-8a20-0f54d07e7c9c",
   "metadata": {},
   "outputs": [],
   "source": []
  },
  {
   "cell_type": "code",
   "execution_count": null,
   "id": "7e03d71a-5f1e-4028-b3b5-5497e58911d6",
   "metadata": {},
   "outputs": [],
   "source": []
  }
 ],
 "metadata": {
  "kernelspec": {
   "display_name": "Python [conda env:.conda-python_en]",
   "language": "python",
   "name": "conda-env-.conda-python_en-py"
  },
  "language_info": {
   "codemirror_mode": {
    "name": "ipython",
    "version": 3
   },
   "file_extension": ".py",
   "mimetype": "text/x-python",
   "name": "python",
   "nbconvert_exporter": "python",
   "pygments_lexer": "ipython3",
   "version": "3.9.18"
  }
 },
 "nbformat": 4,
 "nbformat_minor": 5
}
